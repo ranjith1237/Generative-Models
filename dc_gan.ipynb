{
 "cells": [
  {
   "cell_type": "markdown",
   "metadata": {},
   "source": [
    "# DCGAN implementation on MNIST DATA\n",
    "   "
   ]
  },
  {
   "cell_type": "code",
   "execution_count": 21,
   "metadata": {},
   "outputs": [],
   "source": [
    "# load modules\n",
    "import numpy as np\n",
    "import torch\n",
    "import torch.nn as nn\n",
    "from torch.nn import Sequential\n",
    "from torch.nn import Conv2d\n",
    "from torch.nn import BatchNorm2d\n",
    "from torch.nn import ReLU\n",
    "from torch.nn import Tanh\n",
    "from torch.nn import Sigmoid\n",
    "from torch.nn import ConvTranspose2d\n",
    "from torch.nn import CrossEntropyLoss\n",
    "import torch.optim as optim\n",
    "from torch.autograd.variable import Variable\n",
    "from torch.utils.data import DataLoader\n",
    "from torchvision import datasets,transforms\n",
    "from torchvision.utils import make_grid\n",
    "import matplotlib.pyplot as plt\n",
    "import imageio"
   ]
  },
  {
   "cell_type": "code",
   "execution_count": 22,
   "metadata": {},
   "outputs": [],
   "source": [
    "img_size=64\n",
    "transform = transforms.Compose([\n",
    "    transforms.Resize(img_size),\n",
    "    transforms.ToTensor(),\n",
    "    transforms.Normalize((0.5,),(0.5,))\n",
    "])\n",
    "to_image = transforms.ToPILImage()\n",
    "trainset = datasets.MNIST(root=\"./mnist_data\",train=True,download=True,transform=transform)\n",
    "trainloader = DataLoader(trainset,batch_size=100,shuffle=True)"
   ]
  },
  {
   "cell_type": "code",
   "execution_count": 23,
   "metadata": {},
   "outputs": [],
   "source": [
    "device = torch.device(\"cuda:0\" if torch.cuda.is_available() else \"cpu\")"
   ]
  },
  {
   "cell_type": "markdown",
   "metadata": {},
   "source": [
    "##### Defining Generator\n",
    "    Input to Generator is noise of 100 dimension and the output is expected to be an image of size 28X28\n",
    "    "
   ]
  },
  {
   "cell_type": "code",
   "execution_count": 24,
   "metadata": {},
   "outputs": [
    {
     "data": {
      "text/plain": [
       "Generator(\n",
       "  (genr): Sequential(\n",
       "    (0): ConvTranspose2d(100, 512, kernel_size=(4, 4), stride=(1, 1))\n",
       "    (1): BatchNorm2d(512, eps=1e-05, momentum=0.1, affine=True, track_running_stats=True)\n",
       "    (2): ReLU(inplace=True)\n",
       "    (3): ConvTranspose2d(512, 256, kernel_size=(4, 4), stride=(2, 2), padding=(1, 1))\n",
       "    (4): BatchNorm2d(256, eps=1e-05, momentum=0.1, affine=True, track_running_stats=True)\n",
       "    (5): ReLU(inplace=True)\n",
       "    (6): ConvTranspose2d(256, 128, kernel_size=(4, 4), stride=(2, 2), padding=(1, 1))\n",
       "    (7): BatchNorm2d(128, eps=1e-05, momentum=0.1, affine=True, track_running_stats=True)\n",
       "    (8): ReLU(inplace=True)\n",
       "    (9): ConvTranspose2d(128, 64, kernel_size=(4, 4), stride=(2, 2), padding=(1, 1))\n",
       "    (10): BatchNorm2d(64, eps=1e-05, momentum=0.1, affine=True, track_running_stats=True)\n",
       "    (11): ReLU(inplace=True)\n",
       "    (12): ConvTranspose2d(64, 1, kernel_size=(4, 4), stride=(2, 2), padding=(1, 1))\n",
       "    (13): Tanh()\n",
       "  )\n",
       ")"
      ]
     },
     "execution_count": 24,
     "metadata": {},
     "output_type": "execute_result"
    }
   ],
   "source": [
    "class Generator(nn.Module):\n",
    "    def __init__(self,n=100):\n",
    "        nc = 1 # output channels is expected to of 1 dimension as channels of MNIST data generation is 1X64X64\n",
    "        nf = 64\n",
    "        super(Generator,self).__init__()\n",
    "        self.genr = nn.Sequential(\n",
    "            # 100 size initially\n",
    "            ConvTranspose2d(n,nf*8,4,1,0),\n",
    "            BatchNorm2d(nf*8),\n",
    "            ReLU(True),\n",
    "            \n",
    "            # (nf*8)X 4 X 4\n",
    "            ConvTranspose2d(nf*8,nf*4,4,2,1),\n",
    "            BatchNorm2d(nf*4),\n",
    "            ReLU(True),\n",
    "            \n",
    "            # (nf*4) X 8 X 8\n",
    "            ConvTranspose2d(nf*4,nf*2,4,2,1),\n",
    "            BatchNorm2d(nf*2),\n",
    "            ReLU(True),\n",
    "            \n",
    "            # (nf*2) X 16 X 16\n",
    "            ConvTranspose2d(nf*2,nf,4,2,1),\n",
    "            BatchNorm2d(nf),\n",
    "            ReLU(True),\n",
    "            \n",
    "            # (nf) X 32 X 32\n",
    "            ConvTranspose2d(nf,nc,4,2,1),\n",
    "            Tanh()\n",
    "            #output size is (nc) X 64 X 64\n",
    "        )\n",
    "    \n",
    "    def forward(self,x):\n",
    "        output = self.genr(x)\n",
    "        return output\n",
    "Generator()"
   ]
  },
  {
   "cell_type": "markdown",
   "metadata": {},
   "source": [
    "##### Defining Discriminator\n",
    "\n",
    "    Input to Discriminator is expected to be an image of 28X28 size and the output is logit of dimension of 1"
   ]
  },
  {
   "cell_type": "code",
   "execution_count": 25,
   "metadata": {},
   "outputs": [
    {
     "data": {
      "text/plain": [
       "Disciminator(\n",
       "  (discr): Sequential(\n",
       "    (0): Conv2d(1, 64, kernel_size=(4, 4), stride=(2, 2), padding=(1, 1))\n",
       "    (1): BatchNorm2d(64, eps=1e-05, momentum=0.1, affine=True, track_running_stats=True)\n",
       "    (2): ReLU(inplace=True)\n",
       "    (3): Conv2d(64, 128, kernel_size=(4, 4), stride=(2, 2), padding=(1, 1))\n",
       "    (4): BatchNorm2d(128, eps=1e-05, momentum=0.1, affine=True, track_running_stats=True)\n",
       "    (5): ReLU(inplace=True)\n",
       "    (6): Conv2d(128, 256, kernel_size=(4, 4), stride=(2, 2), padding=(1, 1))\n",
       "    (7): BatchNorm2d(256, eps=1e-05, momentum=0.1, affine=True, track_running_stats=True)\n",
       "    (8): ReLU(inplace=True)\n",
       "    (9): Conv2d(256, 512, kernel_size=(4, 4), stride=(2, 2), padding=(1, 1))\n",
       "    (10): BatchNorm2d(512, eps=1e-05, momentum=0.1, affine=True, track_running_stats=True)\n",
       "    (11): ReLU(inplace=True)\n",
       "    (12): Conv2d(512, 1, kernel_size=(4, 4), stride=(1, 1))\n",
       "    (13): Sigmoid()\n",
       "  )\n",
       ")"
      ]
     },
     "execution_count": 25,
     "metadata": {},
     "output_type": "execute_result"
    }
   ],
   "source": [
    "class Disciminator(nn.Module):\n",
    "    def __init__(self,d=64):\n",
    "        super(Disciminator,self).__init__()\n",
    "        self.discr = nn.Sequential(\n",
    "            # 1X64 X 64 size initially\n",
    "            Conv2d(1,d,4,2,1),\n",
    "            BatchNorm2d(d),\n",
    "            ReLU(True),\n",
    "            \n",
    "            # state is in dX32X32\n",
    "            Conv2d(d,2*d,4,2,1),\n",
    "            BatchNorm2d(2*d),\n",
    "            ReLU(True),\n",
    "            \n",
    "            #state is in dX16X16\n",
    "            Conv2d(2*d,4*d,4,2,1),\n",
    "            BatchNorm2d(4*d),\n",
    "            ReLU(True),\n",
    "            \n",
    "            #state is in dX8X8\n",
    "            Conv2d(4*d,8*d,4,2,1),\n",
    "            BatchNorm2d(8*d),\n",
    "            ReLU(True),\n",
    "            \n",
    "            #state is in dX4X4\n",
    "            Conv2d(8*d,1,4,1,0),\n",
    "            Sigmoid()\n",
    "        )\n",
    "    \n",
    "    def forward(self,x):\n",
    "        output = self.discr(x)\n",
    "        return output.view(-1)\n",
    "Disciminator()"
   ]
  },
  {
   "cell_type": "code",
   "execution_count": 26,
   "metadata": {},
   "outputs": [],
   "source": [
    "generator = Generator()\n",
    "discriminator = Disciminator()\n",
    "generator.to(device)\n",
    "discriminator.to(device)\n",
    "g_optim = optim.Adam(generator.parameters(),lr=0.00002)\n",
    "d_optim = optim.Adam(discriminator.parameters(),lr=0.00002)\n",
    "g_losses=[]\n",
    "d_losses=[]\n",
    "images=[]\n",
    "criterion = nn.BCELoss()\n",
    "\n",
    "def noise(batch_size,nc=100):\n",
    "    return Variable(torch.randn(batch_size,nc,1,1)).to(device)\n",
    "    \n",
    "def make_ones(batch_size):\n",
    "    label = Variable(torch.full((batch_size,), 1)).to(device)\n",
    "    return label\n",
    "\n",
    "def make_zeros(batch_size):\n",
    "    label = Variable(torch.full((batch_size,), 0)).to(device)\n",
    "    return label\n",
    "    "
   ]
  },
  {
   "cell_type": "code",
   "execution_count": 27,
   "metadata": {},
   "outputs": [],
   "source": [
    "def train_discriminator(optimizer,real_data,fake_data):\n",
    "    batch_size = real_data.size(0)\n",
    "    \n",
    "    real_predictions = discriminator(real_data)\n",
    "    real_loss = criterion(real_predictions,make_ones(batch_size))\n",
    "    real_loss.backward()\n",
    "    \n",
    "    fake_predictions = discriminator(fake_data)\n",
    "    fake_loss = criterion(fake_predictions,make_zeros(batch_size))\n",
    "    fake_loss.backward()\n",
    "    \n",
    "    optimizer.step()\n",
    "    \n",
    "    return real_loss + fake_loss\n",
    "\n",
    "def train_generator(optimizer,fake_data):\n",
    "    batch_size = fake_data.size(0)\n",
    "    \n",
    "    fake_predictions = discriminator(fake_data)\n",
    "    fake_loss = criterion(fake_predictions,make_ones(batch_size))\n",
    "    fake_loss.backward()\n",
    "    \n",
    "    optimizer.step()\n",
    "\n",
    "    return fake_loss"
   ]
  },
  {
   "cell_type": "code",
   "execution_count": null,
   "metadata": {},
   "outputs": [
    {
     "data": {
      "image/png": "[encoded data removed]",
      "text/plain": [
       "<Figure size 432x288 with 1 Axes>"
      ]
     },
     "metadata": {
      "needs_background": "light"
     },
     "output_type": "display_data"
    },
    {
     "name": "stdout",
     "output_type": "stream",
     "text": [
      "Epoch 0: g_loss is 1.302172 and d_loss is 1.371296 \n"
     ]
    }
   ],
   "source": [
    "num_epochs = 100\n",
    "test_noise = noise(64)\n",
    "z=100 # input radom vector size\n",
    "for epoch in range(num_epochs):\n",
    "    d_error=0.0\n",
    "    g_error=0.0\n",
    "    for i,data in enumerate(trainloader):\n",
    "        inputs,_ = data\n",
    "        real_data = inputs.to(device)\n",
    "        batch_size = inputs.size(0)\n",
    "        \n",
    "        #maximize log(D(X)) + log(1-D(G(Z)))\n",
    "        \n",
    "        fake_data = generator(noise(batch_size,z)).detach()\n",
    "        d_error += train_discriminator(d_optim,real_data,fake_data)\n",
    "        \n",
    "        # maximize log(D(G(Z)))\n",
    "        fake_data = generator(noise(batch_size,z))\n",
    "        g_error += train_generator(g_optim,fake_data)\n",
    "        \n",
    "    \n",
    "    g_losses.append(g_error/i)\n",
    "    d_losses.append(d_error/i)\n",
    "    img = generator(test_noise).cpu().detach()\n",
    "    img = make_grid(img)\n",
    "    plt.imshow(np.array(to_image(img)))\n",
    "    plt.show()\n",
    "    images.append(img)\n",
    "    print(\"Epoch {}: g_loss is {:.6f} and d_loss is {:.6f} \".format(epoch,g_error/i,d_error/i))\n",
    "\n",
    "print(\"Finished Training\")\n",
    "torch.save(generator.state_dict(),\"dcgan_mnist.pt\")"
   ]
  },
  {
   "cell_type": "code",
   "execution_count": null,
   "metadata": {},
   "outputs": [],
   "source": [
    "plt.plot(g_losses,label=\"generator loss\")\n",
    "plt.plot(d_losses,label=\"discriminator loss\")\n",
    "plt.legend()\n",
    "plt.show()"
   ]
  },
  {
   "cell_type": "code",
   "execution_count": null,
   "metadata": {},
   "outputs": [],
   "source": [
    "imgs = [np.array(to_image(i)) for i in images]\n",
    "imageio.mimsave('progress.gif', imgs)"
   ]
  },
  {
   "cell_type": "code",
   "execution_count": null,
   "metadata": {},
   "outputs": [],
   "source": [
    "!pwd"
   ]
  },
  {
   "cell_type": "code",
   "execution_count": null,
   "metadata": {},
   "outputs": [],
   "source": []
  }
 ],
 "metadata": {
  "kernelspec": {
   "display_name": "Python 3",
   "language": "python",
   "name": "python3"
  },
  "language_info": {
   "codemirror_mode": {
    "name": "ipython",
    "version": 3
   },
   "file_extension": ".py",
   "mimetype": "text/x-python",
   "name": "python",
   "nbconvert_exporter": "python",
   "pygments_lexer": "ipython3",
   "version": "3.7.4"
  }
 },
 "nbformat": 4,
 "nbformat_minor": 2
}
