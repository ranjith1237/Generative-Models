{
 "cells": [
  {
   "cell_type": "markdown",
   "metadata": {},
   "source": [
    "# Vanilla GAN on MNIST dataset"
   ]
  },
  {
   "cell_type": "code",
   "execution_count": 1,
   "metadata": {},
   "outputs": [],
   "source": [
    "import torch\n",
    "import torch.nn as nn\n",
    "from torch.nn import Sequential\n",
    "import torch.optim as optim\n",
    "from torch.autograd.variable import Variable\n",
    "from torch.nn import CrossEntropyLoss\n",
    "from torchvision import datasets,transforms\n",
    "from torch.utils.data import DataLoader\n",
    "from torchvision.utils import make_grid\n",
    "import imageio\n",
    "import numpy as np\n",
    "from matplotlib import pyplot as plt"
   ]
  },
  {
   "cell_type": "markdown",
   "metadata": {},
   "source": [
    "#### loading MNIST data "
   ]
  },
  {
   "cell_type": "code",
   "execution_count": 2,
   "metadata": {},
   "outputs": [],
   "source": [
    "transform = transforms.Compose([\n",
    "    transforms.ToTensor(),\n",
    "    transforms.Normalize((0.5,),(0.5,))\n",
    "])\n",
    "to_image = transforms.ToPILImage()\n",
    "trainset = datasets.MNIST(root=\"./mnist_data\",train=True,download=True,transform=transform)\n",
    "trainloader = DataLoader(trainset,batch_size=100,shuffle=True)"
   ]
  },
  {
   "cell_type": "code",
   "execution_count": 3,
   "metadata": {},
   "outputs": [],
   "source": [
    "device = torch.device(\"cuda:0\" if torch.cuda.is_available() else \"cpu\")"
   ]
  },
  {
   "cell_type": "markdown",
   "metadata": {},
   "source": [
    "#### Define Class Discriminator and Generator\n",
    "For discriminator we give an image(flattend) of size 784 and predict whether is it true/fake digit from MNIST. \n",
    "For Generator we give a radom noise of 100 dimensional data and predict a image(flattend) of size 784 to produce an digit inorder to fool discriminator."
   ]
  },
  {
   "cell_type": "code",
   "execution_count": 4,
   "metadata": {},
   "outputs": [],
   "source": [
    "class Discriminator(nn.Module):\n",
    "    def __init__(self):\n",
    "        super(Discriminator,self).__init__()\n",
    "        self.fc0 = Sequential(\n",
    "                        nn.Linear(784,1024),\n",
    "                        nn.LeakyReLU(0.2),\n",
    "                        nn.Dropout(0.3)\n",
    "                    )\n",
    "        self.fc1 = Sequential(\n",
    "                    nn.Linear(1024,512),\n",
    "                    nn.LeakyReLU(0.2),\n",
    "                    nn.Dropout(0.3)\n",
    "                    )\n",
    "        self.fc2 = Sequential(\n",
    "                    nn.Linear(512,256),\n",
    "                    nn.LeakyReLU(0.2),\n",
    "                    nn.Dropout(0.3)\n",
    "                    )\n",
    "        self.fc3 = Sequential(\n",
    "                    nn.Linear(256,1),\n",
    "                    nn.Sigmoid()\n",
    "                    )\n",
    "    def forward(self,x): # x is shape of 28X28 image tensor\n",
    "        x = x.view(-1,784)\n",
    "        x = self.fc0(x)\n",
    "        x = self.fc1(x)\n",
    "        x = self.fc2(x)\n",
    "        x = self.fc3(x)\n",
    "        return x\n",
    "    \n",
    "    \n",
    "class Generator(nn.Module):\n",
    "    def __init__(self):\n",
    "        super(Generator,self).__init__()\n",
    "        self.fc0 = Sequential(\n",
    "                    nn.Linear(128,256),\n",
    "                    nn.LeakyReLU(0.2)\n",
    "                    )\n",
    "        self.fc1 = Sequential(\n",
    "                    nn.Linear(256,512),\n",
    "                    nn.LeakyReLU(0.2)\n",
    "                    )\n",
    "        self.fc2 = Sequential(\n",
    "                    nn.Linear(512,1024),\n",
    "                    nn.LeakyReLU(0.2)\n",
    "                    )\n",
    "        self.fc3 = Sequential(\n",
    "                    nn.Linear(1024,784),\n",
    "                    nn.Tanh()\n",
    "                    )\n",
    "\n",
    "    def forward(self,x): # x is noise of 100 dimensions\n",
    "        x = self.fc0(x)\n",
    "        x = self.fc1(x)\n",
    "        x = self.fc2(x)\n",
    "        x = self.fc3(x)\n",
    "        x = x.view(-1,1,28,28)\n",
    "        return x"
   ]
  },
  {
   "cell_type": "code",
   "execution_count": 5,
   "metadata": {},
   "outputs": [],
   "source": [
    "generator = Generator()\n",
    "discriminator = Discriminator()\n",
    "generator.to(device)\n",
    "discriminator.to(device)\n",
    "g_optim = optim.Adam(generator.parameters(),lr=2e-4)\n",
    "d_optim = optim.Adam(discriminator.parameters(),lr=2e-4)\n",
    "criterion = nn.BCELoss()\n",
    "g_losses=[]\n",
    "d_losses=[]\n",
    "images = []\n",
    "\n",
    "def noise(n,n_features=128):\n",
    "    return Variable(torch.randn(n,n_features)).to(device)\n",
    "\n",
    "def make_ones(size):\n",
    "    data = Variable(torch.ones(size,1))\n",
    "    return data.to(device)\n",
    "\n",
    "def make_zeros(size):\n",
    "    data = Variable(torch.zeros(size,1))\n",
    "    return data.to(device)"
   ]
  },
  {
   "cell_type": "code",
   "execution_count": 6,
   "metadata": {},
   "outputs": [],
   "source": [
    "# discriminator must return sum of loss of real and fake data\n",
    "def train_discriminator(optimizer,real_data,fake_data):\n",
    "    n=real_data.size(0)\n",
    "    optimizer.zero_grad()\n",
    "    predicted_real = discriminator(real_data)\n",
    "    real_loss = criterion(predicted_real,make_ones(n))\n",
    "    real_loss.backward()\n",
    "    \n",
    "    \n",
    "    predicted_fake = discriminator(fake_data)\n",
    "    fake_loss = criterion(predicted_fake,make_zeros(n))\n",
    "    fake_loss.backward()\n",
    "    \n",
    "    optimizer.step()\n",
    "    \n",
    "    return real_loss + fake_loss\n",
    "\n",
    "def train_generator(optimizer,fake_data):\n",
    "    n=fake_data.size(0)\n",
    "    optimizer.zero_grad()\n",
    "    predicted_fake = discriminator(fake_data)\n",
    "    fake_loss = criterion(predicted_fake,make_ones(n))\n",
    "    fake_loss.backward()\n",
    "    optimizer.step()\n",
    "    \n",
    "    return fake_loss"
   ]
  },
  {
   "cell_type": "code",
   "execution_count": 7,
   "metadata": {},
   "outputs": [
    {
     "name": "stdout",
     "output_type": "stream",
     "text": [
      "Epoch 0: g_loss is 3.423425 and d_loss is 0.862056 \n",
      "Epoch 1: g_loss is 1.461986 and d_loss is 1.172712 \n",
      "Epoch 2: g_loss is 1.808588 and d_loss is 0.888764 \n",
      "Epoch 3: g_loss is 2.829979 and d_loss is 0.485380 \n",
      "Epoch 4: g_loss is 2.825780 and d_loss is 0.551051 \n",
      "Epoch 5: g_loss is 2.718867 and d_loss is 0.563408 \n",
      "Epoch 6: g_loss is 2.510228 and d_loss is 0.593447 \n",
      "Epoch 7: g_loss is 2.429132 and d_loss is 0.616431 \n",
      "Epoch 8: g_loss is 2.516043 and d_loss is 0.608689 \n",
      "Epoch 9: g_loss is 2.465598 and d_loss is 0.620850 \n",
      "Epoch 10: g_loss is 2.241978 and d_loss is 0.689687 \n",
      "Epoch 11: g_loss is 2.199371 and d_loss is 0.705307 \n",
      "Epoch 12: g_loss is 2.021729 and d_loss is 0.754655 \n",
      "Epoch 13: g_loss is 2.027311 and d_loss is 0.747990 \n",
      "Epoch 14: g_loss is 1.906909 and d_loss is 0.819441 \n",
      "Epoch 15: g_loss is 1.820309 and d_loss is 0.825160 \n",
      "Epoch 16: g_loss is 1.795108 and d_loss is 0.843715 \n",
      "Epoch 17: g_loss is 1.862570 and d_loss is 0.815230 \n",
      "Epoch 18: g_loss is 1.730740 and d_loss is 0.866490 \n",
      "Epoch 19: g_loss is 1.759808 and d_loss is 0.859467 \n",
      "Epoch 20: g_loss is 1.675805 and d_loss is 0.893823 \n",
      "Epoch 21: g_loss is 1.579696 and d_loss is 0.925024 \n",
      "Epoch 22: g_loss is 1.485157 and d_loss is 0.965779 \n",
      "Epoch 23: g_loss is 1.508130 and d_loss is 0.964730 \n",
      "Epoch 24: g_loss is 1.492066 and d_loss is 0.967229 \n",
      "Epoch 25: g_loss is 1.532709 and d_loss is 0.944596 \n",
      "Epoch 26: g_loss is 1.414158 and d_loss is 0.997717 \n",
      "Epoch 27: g_loss is 1.430124 and d_loss is 0.998243 \n",
      "Epoch 28: g_loss is 1.387564 and d_loss is 1.018986 \n",
      "Epoch 29: g_loss is 1.398002 and d_loss is 1.013953 \n",
      "Epoch 30: g_loss is 1.411996 and d_loss is 1.004110 \n",
      "Epoch 31: g_loss is 1.392271 and d_loss is 1.000417 \n",
      "Epoch 32: g_loss is 1.350695 and d_loss is 1.033541 \n",
      "Epoch 33: g_loss is 1.312621 and d_loss is 1.057190 \n",
      "Epoch 34: g_loss is 1.261938 and d_loss is 1.076238 \n",
      "Epoch 35: g_loss is 1.232498 and d_loss is 1.088996 \n",
      "Epoch 36: g_loss is 1.233878 and d_loss is 1.092172 \n",
      "Epoch 37: g_loss is 1.274561 and d_loss is 1.070056 \n",
      "Epoch 38: g_loss is 1.279949 and d_loss is 1.064734 \n",
      "Epoch 39: g_loss is 1.235891 and d_loss is 1.093662 \n",
      "Epoch 40: g_loss is 1.206489 and d_loss is 1.099497 \n",
      "Epoch 41: g_loss is 1.191347 and d_loss is 1.113227 \n",
      "Epoch 42: g_loss is 1.174067 and d_loss is 1.119342 \n",
      "Epoch 43: g_loss is 1.203105 and d_loss is 1.109308 \n",
      "Epoch 44: g_loss is 1.139311 and d_loss is 1.138666 \n",
      "Epoch 45: g_loss is 1.125124 and d_loss is 1.146369 \n",
      "Epoch 46: g_loss is 1.118518 and d_loss is 1.150865 \n",
      "Epoch 47: g_loss is 1.125015 and d_loss is 1.147311 \n",
      "Epoch 48: g_loss is 1.107133 and d_loss is 1.157205 \n",
      "Epoch 49: g_loss is 1.111577 and d_loss is 1.152226 \n",
      "Epoch 50: g_loss is 1.074770 and d_loss is 1.175303 \n",
      "Epoch 51: g_loss is 1.084669 and d_loss is 1.168736 \n",
      "Epoch 52: g_loss is 1.073692 and d_loss is 1.173524 \n",
      "Epoch 53: g_loss is 1.070712 and d_loss is 1.179547 \n",
      "Epoch 54: g_loss is 1.066661 and d_loss is 1.175591 \n",
      "Epoch 55: g_loss is 1.055103 and d_loss is 1.184430 \n",
      "Epoch 56: g_loss is 1.049316 and d_loss is 1.185616 \n",
      "Epoch 57: g_loss is 1.041244 and d_loss is 1.198778 \n",
      "Epoch 58: g_loss is 1.030753 and d_loss is 1.201097 \n",
      "Epoch 59: g_loss is 1.021856 and d_loss is 1.203885 \n",
      "Epoch 60: g_loss is 1.035673 and d_loss is 1.196626 \n",
      "Epoch 61: g_loss is 1.006080 and d_loss is 1.207800 \n",
      "Epoch 62: g_loss is 1.031019 and d_loss is 1.206244 \n",
      "Epoch 63: g_loss is 1.028586 and d_loss is 1.208950 \n",
      "Epoch 64: g_loss is 0.987382 and d_loss is 1.225663 \n",
      "Epoch 65: g_loss is 0.990394 and d_loss is 1.222916 \n",
      "Epoch 66: g_loss is 1.002525 and d_loss is 1.219502 \n",
      "Epoch 67: g_loss is 1.016511 and d_loss is 1.208331 \n",
      "Epoch 68: g_loss is 1.015171 and d_loss is 1.210535 \n",
      "Epoch 69: g_loss is 1.003964 and d_loss is 1.216170 \n",
      "Epoch 70: g_loss is 0.989755 and d_loss is 1.227985 \n",
      "Epoch 71: g_loss is 0.989103 and d_loss is 1.221661 \n",
      "Epoch 72: g_loss is 0.986710 and d_loss is 1.229540 \n",
      "Epoch 73: g_loss is 0.983017 and d_loss is 1.228371 \n",
      "Epoch 74: g_loss is 0.978114 and d_loss is 1.222631 \n",
      "Epoch 75: g_loss is 0.974959 and d_loss is 1.231927 \n",
      "Epoch 76: g_loss is 0.983990 and d_loss is 1.230499 \n",
      "Epoch 77: g_loss is 0.984921 and d_loss is 1.229576 \n",
      "Epoch 78: g_loss is 0.974107 and d_loss is 1.235255 \n",
      "Epoch 79: g_loss is 0.958318 and d_loss is 1.235230 \n",
      "Epoch 80: g_loss is 0.977235 and d_loss is 1.231752 \n",
      "Epoch 81: g_loss is 0.972330 and d_loss is 1.233790 \n",
      "Epoch 82: g_loss is 0.963887 and d_loss is 1.243344 \n",
      "Epoch 83: g_loss is 0.964450 and d_loss is 1.235529 \n",
      "Epoch 84: g_loss is 0.949423 and d_loss is 1.246801 \n",
      "Epoch 85: g_loss is 0.959907 and d_loss is 1.239636 \n",
      "Epoch 86: g_loss is 0.982725 and d_loss is 1.235405 \n",
      "Epoch 87: g_loss is 0.952525 and d_loss is 1.242034 \n",
      "Epoch 88: g_loss is 0.952313 and d_loss is 1.244415 \n",
      "Epoch 89: g_loss is 0.965710 and d_loss is 1.238410 \n",
      "Epoch 90: g_loss is 0.970168 and d_loss is 1.233710 \n",
      "Epoch 91: g_loss is 0.954876 and d_loss is 1.248030 \n",
      "Epoch 92: g_loss is 0.956056 and d_loss is 1.242886 \n",
      "Epoch 93: g_loss is 0.951019 and d_loss is 1.246703 \n",
      "Epoch 94: g_loss is 0.926328 and d_loss is 1.254444 \n",
      "Epoch 95: g_loss is 0.943579 and d_loss is 1.249728 \n",
      "Epoch 96: g_loss is 0.931987 and d_loss is 1.256364 \n",
      "Epoch 97: g_loss is 0.927406 and d_loss is 1.261604 \n",
      "Epoch 98: g_loss is 0.923517 and d_loss is 1.264674 \n",
      "Epoch 99: g_loss is 0.937317 and d_loss is 1.255868 \n",
      "Finished Training\n"
     ]
    }
   ],
   "source": [
    "epochs=100\n",
    "test_noise = noise(64)\n",
    "generator.train()\n",
    "discriminator.train()\n",
    "for epoch in range(epochs):\n",
    "    g_error = 0.0\n",
    "    d_error = 0.0\n",
    "    for i,data in enumerate(trainloader):\n",
    "        inputs,target = data\n",
    "        real_data = inputs.to(device)\n",
    "        n = inputs.size(0)\n",
    "        fake_data = generator(noise(n)).detach()\n",
    "        d_error += train_discriminator(d_optim,real_data,fake_data)\n",
    "        fake_data = generator(noise(n))\n",
    "        g_error += train_generator(g_optim,fake_data)\n",
    "    \n",
    "    img = generator(test_noise).cpu().detach()\n",
    "    img = make_grid(img)\n",
    "    images.append(img)\n",
    "    g_losses.append(g_error/i)\n",
    "    d_losses.append(d_error/i)\n",
    "    print(\"Epoch {}: g_loss is {:.6f} and d_loss is {:.6f} \".format(epoch,g_error/i,d_error/i))\n",
    "\n",
    "print(\"Finished Training\")\n",
    "torch.save(generator.state_dict(),\"mnist_generator.pt\")"
   ]
  },
  {
   "cell_type": "code",
   "execution_count": 8,
   "metadata": {},
   "outputs": [],
   "source": [
    "imgs = [np.array(to_image(i)) for i in images]\n",
    "imageio.mimsave('progress.gif', imgs)"
   ]
  },
  {
   "cell_type": "code",
   "execution_count": 9,
   "metadata": {},
   "outputs": [
    {
     "data": {
      "image/png": "[encoded data removed]",
      "text/plain": [
       "<Figure size 432x288 with 1 Axes>"
      ]
     },
     "metadata": {
      "needs_background": "light"
     },
     "output_type": "display_data"
    }
   ],
   "source": [
    "plt.plot(g_losses,label=\"generator loss\")\n",
    "plt.plot(d_losses,label=\"discriminator loss\")\n",
    "plt.legend()\n",
    "plt.show()"
   ]
  },
  {
   "cell_type": "code",
   "execution_count": 10,
   "metadata": {},
   "outputs": [
    {
     "name": "stdout",
     "output_type": "stream",
     "text": [
      "data\t    mnist_generator.pt\tvangan.py\r\n",
      "mnist_data  progress.gif\tvanilla_gan.ipynb\r\n"
     ]
    }
   ],
   "source": [
    "!ls"
   ]
  },
  {
   "cell_type": "code",
   "execution_count": 11,
   "metadata": {},
   "outputs": [
    {
     "name": "stdout",
     "output_type": "stream",
     "text": [
      "/home/ranjith.reddy/deep_learning/Generative-Models\r\n"
     ]
    }
   ],
   "source": [
    "!pwd"
   ]
  },
  {
   "cell_type": "code",
   "execution_count": null,
   "metadata": {},
   "outputs": [],
   "source": []
  }
 ],
 "metadata": {
  "kernelspec": {
   "display_name": "Python 3",
   "language": "python",
   "name": "python3"
  },
  "language_info": {
   "codemirror_mode": {
    "name": "ipython",
    "version": 3
   },
   "file_extension": ".py",
   "mimetype": "text/x-python",
   "name": "python",
   "nbconvert_exporter": "python",
   "pygments_lexer": "ipython3",
   "version": "3.7.4"
  }
 },
 "nbformat": 4,
 "nbformat_minor": 2
}
